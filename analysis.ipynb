{
 "cells": [
  {
   "cell_type": "markdown",
   "metadata": {},
   "source": [
    "# Notebook to analyse data"
   ]
  },
  {
   "cell_type": "markdown",
   "metadata": {},
   "source": [
    "### **Imports**"
   ]
  },
  {
   "cell_type": "code",
   "execution_count": 3,
   "metadata": {},
   "outputs": [
    {
     "name": "stdout",
     "output_type": "stream",
     "text": [
      "DIPlib -- a quantitative image analysis library\n",
      "Version 3.4.3 (Mar 21 2024)\n",
      "For more information see https://diplib.org\n"
     ]
    }
   ],
   "source": [
    "import diplib as dip"
   ]
  },
  {
   "cell_type": "markdown",
   "metadata": {},
   "source": [
    "##"
   ]
  },
  {
   "cell_type": "markdown",
   "metadata": {},
   "source": [
    "### **Load data**"
   ]
  },
  {
   "cell_type": "code",
   "execution_count": 17,
   "metadata": {},
   "outputs": [],
   "source": [
    "def load_imgs(image, density):\n",
    "    path = f'data/image{image}_100_{density}_10.ics'\n",
    "    print(path)\n",
    "    imgs = dip.ImageReadICS(path)\n",
    "    \n",
    "    return imgs"
   ]
  },
  {
   "cell_type": "code",
   "execution_count": 18,
   "metadata": {},
   "outputs": [
    {
     "name": "stdout",
     "output_type": "stream",
     "text": [
      "data/image2_100_50_10.ics\n"
     ]
    },
    {
     "ename": "RuntimeError",
     "evalue": "Couldn't read pixel data from ICS file: The compressed input stream is corrupted\nin function: ImageReadICS (D:\\a\\diplib\\diplib\\src\\file_io\\ics.cpp at line number 554)",
     "output_type": "error",
     "traceback": [
      "\u001b[1;31m---------------------------------------------------------------------------\u001b[0m",
      "\u001b[1;31mRuntimeError\u001b[0m                              Traceback (most recent call last)",
      "Cell \u001b[1;32mIn[18], line 1\u001b[0m\n\u001b[1;32m----> 1\u001b[0m imgs \u001b[38;5;241m=\u001b[39m \u001b[43mload_imgs\u001b[49m\u001b[43m(\u001b[49m\u001b[38;5;241;43m2\u001b[39;49m\u001b[43m,\u001b[49m\u001b[43m \u001b[49m\u001b[38;5;241;43m50\u001b[39;49m\u001b[43m)\u001b[49m\n",
      "Cell \u001b[1;32mIn[17], line 4\u001b[0m, in \u001b[0;36mload_imgs\u001b[1;34m(image, density)\u001b[0m\n\u001b[0;32m      2\u001b[0m path \u001b[38;5;241m=\u001b[39m \u001b[38;5;124mf\u001b[39m\u001b[38;5;124m'\u001b[39m\u001b[38;5;124mdata/image\u001b[39m\u001b[38;5;132;01m{\u001b[39;00mimage\u001b[38;5;132;01m}\u001b[39;00m\u001b[38;5;124m_100_\u001b[39m\u001b[38;5;132;01m{\u001b[39;00mdensity\u001b[38;5;132;01m}\u001b[39;00m\u001b[38;5;124m_10.ics\u001b[39m\u001b[38;5;124m'\u001b[39m\n\u001b[0;32m      3\u001b[0m \u001b[38;5;28mprint\u001b[39m(path)\n\u001b[1;32m----> 4\u001b[0m imgs \u001b[38;5;241m=\u001b[39m \u001b[43mdip\u001b[49m\u001b[38;5;241;43m.\u001b[39;49m\u001b[43mImageReadICS\u001b[49m\u001b[43m(\u001b[49m\u001b[43mpath\u001b[49m\u001b[43m)\u001b[49m\n\u001b[0;32m      6\u001b[0m \u001b[38;5;28;01mreturn\u001b[39;00m imgs\n",
      "\u001b[1;31mRuntimeError\u001b[0m: Couldn't read pixel data from ICS file: The compressed input stream is corrupted\nin function: ImageReadICS (D:\\a\\diplib\\diplib\\src\\file_io\\ics.cpp at line number 554)"
     ]
    }
   ],
   "source": [
    "imgs = load_imgs(2, 50)"
   ]
  }
 ],
 "metadata": {
  "kernelspec": {
   "display_name": ".venv",
   "language": "python",
   "name": "python3"
  },
  "language_info": {
   "codemirror_mode": {
    "name": "ipython",
    "version": 3
   },
   "file_extension": ".py",
   "mimetype": "text/x-python",
   "name": "python",
   "nbconvert_exporter": "python",
   "pygments_lexer": "ipython3",
   "version": "3.12.0"
  }
 },
 "nbformat": 4,
 "nbformat_minor": 2
}
